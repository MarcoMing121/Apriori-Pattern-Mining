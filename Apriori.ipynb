{
 "cells": [
  {
   "cell_type": "code",
   "execution_count": 1,
   "metadata": {},
   "outputs": [
    {
     "name": "stdout",
     "output_type": "stream",
     "text": [
      "k=1 : 733\n"
     ]
    },
    {
     "name": "stderr",
     "output_type": "stream",
     "text": [
      "100%|██████████| 668333/668333 [00:02<00:00, 294024.64it/s]\n"
     ]
    },
    {
     "name": "stdout",
     "output_type": "stream",
     "text": [
      "k=2 : 8133\n"
     ]
    },
    {
     "name": "stderr",
     "output_type": "stream",
     "text": [
      "100%|██████████| 668333/668333 [00:08<00:00, 75200.10it/s] \n"
     ]
    },
    {
     "name": "stdout",
     "output_type": "stream",
     "text": [
      "k=3 : 7998\n"
     ]
    },
    {
     "name": "stderr",
     "output_type": "stream",
     "text": [
      "100%|██████████| 668333/668333 [00:08<00:00, 76769.20it/s] \n"
     ]
    },
    {
     "name": "stdout",
     "output_type": "stream",
     "text": [
      "k=4 : 1740\n"
     ]
    },
    {
     "name": "stderr",
     "output_type": "stream",
     "text": [
      "100%|██████████| 668333/668333 [00:03<00:00, 198953.77it/s]\n"
     ]
    },
    {
     "name": "stdout",
     "output_type": "stream",
     "text": [
      "k=5 : 90\n"
     ]
    },
    {
     "name": "stderr",
     "output_type": "stream",
     "text": [
      "100%|██████████| 668333/668333 [00:02<00:00, 230951.99it/s]\n"
     ]
    },
    {
     "name": "stdout",
     "output_type": "stream",
     "text": [
      "k=6 : 0\n",
      "total number with min frequnce 66.83330000000001: 18694\n",
      "==============================\n",
      "k=1 : 592\n"
     ]
    },
    {
     "name": "stderr",
     "output_type": "stream",
     "text": [
      "100%|██████████| 668333/668333 [00:01<00:00, 370156.93it/s]\n"
     ]
    },
    {
     "name": "stdout",
     "output_type": "stream",
     "text": [
      "k=2 : 4553\n"
     ]
    },
    {
     "name": "stderr",
     "output_type": "stream",
     "text": [
      "100%|██████████| 668333/668333 [00:04<00:00, 145017.58it/s]\n"
     ]
    },
    {
     "name": "stdout",
     "output_type": "stream",
     "text": [
      "k=3 : 2734\n"
     ]
    },
    {
     "name": "stderr",
     "output_type": "stream",
     "text": [
      "100%|██████████| 668333/668333 [00:03<00:00, 208203.84it/s]\n"
     ]
    },
    {
     "name": "stdout",
     "output_type": "stream",
     "text": [
      "k=4 : 334\n"
     ]
    },
    {
     "name": "stderr",
     "output_type": "stream",
     "text": [
      "100%|██████████| 668333/668333 [00:03<00:00, 217349.47it/s]\n"
     ]
    },
    {
     "name": "stdout",
     "output_type": "stream",
     "text": [
      "k=5 : 6\n"
     ]
    },
    {
     "name": "stderr",
     "output_type": "stream",
     "text": [
      "100%|██████████| 668333/668333 [00:02<00:00, 228849.73it/s]\n"
     ]
    },
    {
     "name": "stdout",
     "output_type": "stream",
     "text": [
      "k=6 : 0\n",
      "total number with min frequnce 133.66660000000002: 8219\n",
      "==============================\n",
      "k=1 : 524\n"
     ]
    },
    {
     "name": "stderr",
     "output_type": "stream",
     "text": [
      "100%|██████████| 668333/668333 [00:01<00:00, 378843.95it/s]\n"
     ]
    },
    {
     "name": "stdout",
     "output_type": "stream",
     "text": [
      "k=2 : 3081\n"
     ]
    },
    {
     "name": "stderr",
     "output_type": "stream",
     "text": [
      "100%|██████████| 668333/668333 [00:03<00:00, 203999.68it/s]\n"
     ]
    },
    {
     "name": "stdout",
     "output_type": "stream",
     "text": [
      "k=3 : 1342\n"
     ]
    },
    {
     "name": "stderr",
     "output_type": "stream",
     "text": [
      "100%|██████████| 668333/668333 [00:02<00:00, 280914.86it/s]\n"
     ]
    },
    {
     "name": "stdout",
     "output_type": "stream",
     "text": [
      "k=4 : 129\n"
     ]
    },
    {
     "name": "stderr",
     "output_type": "stream",
     "text": [
      "100%|██████████| 668333/668333 [00:02<00:00, 235926.49it/s]\n"
     ]
    },
    {
     "name": "stdout",
     "output_type": "stream",
     "text": [
      "k=5 : 1\n"
     ]
    },
    {
     "name": "stderr",
     "output_type": "stream",
     "text": [
      "100%|██████████| 668333/668333 [00:03<00:00, 219807.63it/s]\n"
     ]
    },
    {
     "name": "stdout",
     "output_type": "stream",
     "text": [
      "k=6 : 0\n",
      "total number with min frequnce 200.49989999999997: 5077\n",
      "==============================\n",
      "k=1 : 470\n"
     ]
    },
    {
     "name": "stderr",
     "output_type": "stream",
     "text": [
      "100%|██████████| 668333/668333 [00:02<00:00, 310553.97it/s]\n"
     ]
    },
    {
     "name": "stdout",
     "output_type": "stream",
     "text": [
      "k=2 : 2237\n"
     ]
    },
    {
     "name": "stderr",
     "output_type": "stream",
     "text": [
      "100%|██████████| 668333/668333 [00:02<00:00, 232558.77it/s]\n"
     ]
    },
    {
     "name": "stdout",
     "output_type": "stream",
     "text": [
      "k=3 : 800\n"
     ]
    },
    {
     "name": "stderr",
     "output_type": "stream",
     "text": [
      "100%|██████████| 668333/668333 [00:02<00:00, 289826.11it/s]\n"
     ]
    },
    {
     "name": "stdout",
     "output_type": "stream",
     "text": [
      "k=4 : 49\n"
     ]
    },
    {
     "name": "stderr",
     "output_type": "stream",
     "text": [
      "100%|██████████| 668333/668333 [00:02<00:00, 232820.78it/s]\n"
     ]
    },
    {
     "name": "stdout",
     "output_type": "stream",
     "text": [
      "k=5 : 0\n",
      "total number with min frequnce 267.33320000000003: 3556\n",
      "==============================\n",
      "k=1 : 437\n"
     ]
    },
    {
     "name": "stderr",
     "output_type": "stream",
     "text": [
      "100%|██████████| 668333/668333 [00:01<00:00, 367379.58it/s]\n"
     ]
    },
    {
     "name": "stdout",
     "output_type": "stream",
     "text": [
      "k=2 : 1727\n"
     ]
    },
    {
     "name": "stderr",
     "output_type": "stream",
     "text": [
      "100%|██████████| 668333/668333 [00:02<00:00, 263007.79it/s]\n"
     ]
    },
    {
     "name": "stdout",
     "output_type": "stream",
     "text": [
      "k=3 : 505\n"
     ]
    },
    {
     "name": "stderr",
     "output_type": "stream",
     "text": [
      "100%|██████████| 668333/668333 [00:02<00:00, 304364.46it/s]\n"
     ]
    },
    {
     "name": "stdout",
     "output_type": "stream",
     "text": [
      "k=4 : 26\n"
     ]
    },
    {
     "name": "stderr",
     "output_type": "stream",
     "text": [
      "100%|██████████| 668333/668333 [00:02<00:00, 223745.58it/s]"
     ]
    },
    {
     "name": "stdout",
     "output_type": "stream",
     "text": [
      "k=5 : 0\n",
      "total number with min frequnce 334.1665: 2695\n",
      "==============================\n",
      "The running time: 80.46822810173035\n"
     ]
    },
    {
     "name": "stderr",
     "output_type": "stream",
     "text": [
      "\n"
     ]
    }
   ],
   "source": [
    "from itertools import combinations as comb\n",
    "from tqdm import tqdm\n",
    "from random import random\n",
    "import math\n",
    "import time\n",
    "\n",
    "\n",
    "#sampling parameter\n",
    "sigma = 0.01\n",
    "tolr = 0.01\n",
    "sample_mode = False\n",
    "\n",
    "start = time.time()\n",
    "transdb =[]\n",
    "with open(\"trans.txt\") as f:\n",
    "    for line in f.readlines():\n",
    "        line = line[:-1]\n",
    "        line = line.split(\"\\t\")\n",
    "        transdb.append(frozenset(line))\n",
    "minFreq = [1e-4,2e-4,3e-4,4e-4,5e-4]\n",
    "dblen = len(transdb)\n",
    "minFreq = [i*dblen for i in minFreq]\n",
    "check = (1/tolr**2) * (6 + math.log(1/sigma))/dblen\n",
    "\n",
    "\n",
    "for min in minFreq:\n",
    "    if sample_mode: min = min * check * (1-tolr/2)\n",
    "    L_old = {}\n",
    "    total_num = []\n",
    "    for trans in transdb:\n",
    "        for item in trans:\n",
    "            key = frozenset([item])\n",
    "            L_old[key] = L_old.get(key,0) + 1\n",
    "\n",
    "    for k,v in list(L_old.items()):\n",
    "        if v < min:\n",
    "            L_old.pop(k)\n",
    "\n",
    "    total_num.append(len(L_old.keys()))\n",
    "    print(f'k=1 : {total_num[0]}')\n",
    "\n",
    "\n",
    "    k = 2\n",
    "\n",
    "    while total_num[-1] != 0:\n",
    "        pbar = tqdm(transdb)\n",
    "        L_new = {}\n",
    "        for i in comb(L_old,2):\n",
    "            if len(i[0].difference(i[1])) == 1:\n",
    "                L_new[i[0].union(i[1])] = 0\n",
    "\n",
    "        for trans in pbar:\n",
    "            if not sample_mode or random() < check:\n",
    "                subsets = list(comb(trans,k))\n",
    "                for set in subsets:\n",
    "                    set = frozenset(set)\n",
    "                    value = L_new.get(set,None)\n",
    "                    if value is not None :\n",
    "                        L_new[set] = value + 1\n",
    "\n",
    "\n",
    "        for key,v in list(L_new.items()):\n",
    "            if v < min:\n",
    "                L_new.pop(key)\n",
    "        \n",
    "        total_num.append(len(L_new.keys()))\n",
    "        print(f'k={k} : {total_num[k-1]}')\n",
    "        L_old = L_new\n",
    "        k += 1\n",
    "    print(f'total number with min frequnce {min}: {sum(total_num)}')\n",
    "    print('==='*10)\n",
    "\n",
    "\n",
    "\n",
    "end = time.time()\n",
    "print(f'The running time: {end - start}')\n",
    "\n",
    "\n",
    "\n"
   ]
  }
 ],
 "metadata": {
  "kernelspec": {
   "display_name": "Python 3",
   "language": "python",
   "name": "python3"
  },
  "language_info": {
   "codemirror_mode": {
    "name": "ipython",
    "version": 3
   },
   "file_extension": ".py",
   "mimetype": "text/x-python",
   "name": "python",
   "nbconvert_exporter": "python",
   "pygments_lexer": "ipython3",
   "version": "3.11.2"
  }
 },
 "nbformat": 4,
 "nbformat_minor": 2
}
